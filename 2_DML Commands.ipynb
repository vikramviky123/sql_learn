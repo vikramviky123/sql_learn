{
 "cells": [
  {
   "cell_type": "markdown",
   "metadata": {},
   "source": [
    "# DML Commands\n",
    "#### INSERT, UPDATE, DELETE, MERGE"
   ]
  },
  {
   "cell_type": "code",
   "execution_count": 1,
   "metadata": {},
   "outputs": [],
   "source": [
    "import mysql\n",
    "from mysql import connector\n",
    "from mysql.connector import connect"
   ]
  },
  {
   "cell_type": "code",
   "execution_count": 2,
   "metadata": {},
   "outputs": [
    {
     "name": "stdout",
     "output_type": "stream",
     "text": [
      "<mysql.connector.connection_cext.CMySQLConnection object at 0x000001550EC53B80>\n"
     ]
    }
   ],
   "source": [
    "mydb = connect(\n",
    "  host=\"localhost\",\n",
    "  user=\"vikram\",\n",
    "  password=\"123\"\n",
    ")\n",
    "\n",
    "print(mydb)"
   ]
  },
  {
   "cell_type": "code",
   "execution_count": 3,
   "metadata": {},
   "outputs": [],
   "source": [
    "myCursor = mydb.cursor()"
   ]
  },
  {
   "cell_type": "code",
   "execution_count": 5,
   "metadata": {},
   "outputs": [],
   "source": [
    "# myCursor.execute(\"DROP DATABASE DML_database_2_py\")"
   ]
  },
  {
   "cell_type": "code",
   "execution_count": 6,
   "metadata": {},
   "outputs": [],
   "source": [
    "myCursor.execute(\"CREATE DATABASE DML_database_2_py\")"
   ]
  },
  {
   "cell_type": "code",
   "execution_count": 7,
   "metadata": {},
   "outputs": [
    {
     "name": "stdout",
     "output_type": "stream",
     "text": [
      "('chinook',)\n",
      "('company',)\n",
      "('db',)\n",
      "('ddl_database_1',)\n",
      "('ddl_database_1_py',)\n",
      "('dml_database_2',)\n",
      "('dml_database_2_py',)\n",
      "('giraffe',)\n",
      "('hr',)\n",
      "('hr_emp',)\n",
      "('information_schema',)\n",
      "('lion',)\n",
      "('mydb',)\n",
      "('mysql',)\n",
      "('oracle',)\n",
      "('orders',)\n",
      "('performance_schema',)\n",
      "('smapledatabase',)\n",
      "('sys',)\n"
     ]
    }
   ],
   "source": [
    "myCursor.execute(\"SHOW DATABASES\")\n",
    "\n",
    "for x in myCursor:\n",
    "  print(x)"
   ]
  },
  {
   "cell_type": "markdown",
   "metadata": {},
   "source": [
    "##### Connecting To Database"
   ]
  },
  {
   "cell_type": "code",
   "execution_count": 8,
   "metadata": {},
   "outputs": [],
   "source": [
    "DML_database_2_py = connect(  \n",
    "                                host=\"localhost\",\n",
    "                                user=\"vikram\",\n",
    "                                password=\"123\",\n",
    "                                database=\"DML_database_2_py\"\n",
    "    )\n",
    "DML_2_py = DML_database_2_py.cursor()"
   ]
  },
  {
   "cell_type": "markdown",
   "metadata": {},
   "source": [
    "##### Creating database"
   ]
  },
  {
   "cell_type": "code",
   "execution_count": 9,
   "metadata": {},
   "outputs": [],
   "source": [
    "wrt_str = \"\"\"\n",
    "CREATE TABLE employees(\n",
    "    employee_id INT, \n",
    "    first_name VARCHAR(20),\n",
    "      last_name VARCHAR(20),\n",
    "      country VARCHAR(20),\n",
    "      salary INT);\n",
    "      \"\"\""
   ]
  },
  {
   "cell_type": "code",
   "execution_count": 10,
   "metadata": {},
   "outputs": [
    {
     "name": "stdout",
     "output_type": "stream",
     "text": [
      "('employees',)\n"
     ]
    }
   ],
   "source": [
    "DML_2_py.execute(wrt_str)\n",
    "DML_2_py.execute(\"SHOW TABLES\")\n",
    "for x in DML_2_py:\n",
    "    print(x) "
   ]
  },
  {
   "cell_type": "code",
   "execution_count": 11,
   "metadata": {},
   "outputs": [
    {
     "name": "stdout",
     "output_type": "stream",
     "text": [
      "('employee_id', b'int', 'YES', '', None, '')\n",
      "('first_name', b'varchar(20)', 'YES', '', None, '')\n",
      "('last_name', b'varchar(20)', 'YES', '', None, '')\n",
      "('country', b'varchar(20)', 'YES', '', None, '')\n",
      "('salary', b'int', 'YES', '', None, '')\n"
     ]
    }
   ],
   "source": [
    "DML_2_py.execute(\"DESCRIBE EMPLOYEES\")\n",
    "for x in DML_2_py:\n",
    "    print(x) "
   ]
  },
  {
   "cell_type": "markdown",
   "metadata": {},
   "source": [
    "#### INSERT"
   ]
  },
  {
   "cell_type": "code",
   "execution_count": 12,
   "metadata": {},
   "outputs": [],
   "source": [
    "insrt_vals = \"\"\"\n",
    "INSERT INTO employees \n",
    "VALUES  \n",
    "(1, \"Vikram\", \"Reddy\", \"India\", 100000),\n",
    "(2, \"Manji\", \"Reddy\", \"USA\", 150000),\n",
    "(3, \"Jhansi\", \"Reddy\", \"Canada\", 150000),\n",
    "(4, \"ZZZ\", \"Reddy\", \"India\", 200000),\n",
    "(5, \"YYY\", \"Reddy\", \"USA\", 350000),\n",
    "(6, \"XXX\", \"Reddy\", \"Canada\", 450000);\n",
    "\"\"\""
   ]
  },
  {
   "cell_type": "code",
   "execution_count": 13,
   "metadata": {},
   "outputs": [
    {
     "name": "stdout",
     "output_type": "stream",
     "text": [
      "('employee_id', b'int', 'YES', '', None, '')\n",
      "('first_name', b'varchar(20)', 'YES', '', None, '')\n",
      "('last_name', b'varchar(20)', 'YES', '', None, '')\n",
      "('country', b'varchar(20)', 'YES', '', None, '')\n",
      "('salary', b'int', 'YES', '', None, '')\n"
     ]
    }
   ],
   "source": [
    "DML_2_py.execute(insrt_vals)"
   ]
  },
  {
   "cell_type": "code",
   "execution_count": 14,
   "metadata": {},
   "outputs": [
    {
     "name": "stdout",
     "output_type": "stream",
     "text": [
      "(1, 'Vikram', 'Reddy', 'India', 100000)\n",
      "(2, 'Manji', 'Reddy', 'USA', 150000)\n",
      "(3, 'Jhansi', 'Reddy', 'Canada', 150000)\n",
      "(4, 'ZZZ', 'Reddy', 'India', 200000)\n",
      "(5, 'YYY', 'Reddy', 'USA', 350000)\n",
      "(6, 'XXX', 'Reddy', 'Canada', 450000)\n"
     ]
    }
   ],
   "source": [
    "DML_2_py.execute(\"SELECT * FROM employees;\")\n",
    "myresult = DML_2_py.fetchall()\n",
    "for row in myresult:\n",
    "    print(row)"
   ]
  },
  {
   "cell_type": "markdown",
   "metadata": {},
   "source": [
    "#### UPDATE"
   ]
  },
  {
   "cell_type": "code",
   "execution_count": 15,
   "metadata": {},
   "outputs": [
    {
     "name": "stdout",
     "output_type": "stream",
     "text": [
      "1 record(s) affected\n"
     ]
    }
   ],
   "source": [
    "DML_2_py.execute(\"UPDATE employees SET first_name = 'Jinna', last_name = 'Bhai' WHERE employee_id = 1;\")   \n",
    "DML_database_2_py.commit()\n",
    "\n",
    "print(DML_2_py.rowcount, \"record(s) affected\") "
   ]
  },
  {
   "cell_type": "code",
   "execution_count": 17,
   "metadata": {},
   "outputs": [
    {
     "name": "stdout",
     "output_type": "stream",
     "text": [
      "(1, 'Jinna', 'Bhai', 'India', 100000)\n",
      "(2, 'Manji', 'Reddy', 'USA', 150000)\n",
      "(3, 'Jhansi', 'Reddy', 'Canada', 150000)\n",
      "(4, 'ZZZ', 'Reddy', 'India', 200000)\n",
      "(5, 'YYY', 'Reddy', 'USA', 350000)\n",
      "(6, 'XXX', 'Reddy', 'Canada', 450000)\n"
     ]
    }
   ],
   "source": [
    "DML_2_py.execute(\"SELECT * FROM employees;\")\n",
    "myresult = DML_2_py.fetchall()\n",
    "for row in myresult:\n",
    "    print(row)"
   ]
  },
  {
   "cell_type": "markdown",
   "metadata": {},
   "source": [
    "#### DELETE"
   ]
  },
  {
   "cell_type": "code",
   "execution_count": 20,
   "metadata": {},
   "outputs": [
    {
     "name": "stdout",
     "output_type": "stream",
     "text": [
      "1 record(s) affected\n"
     ]
    }
   ],
   "source": [
    "DML_2_py.execute(\"DELETE FROM employees WHERE employee_id = 4;\")   \n",
    "DML_2_py.execute(\"DELETE FROM employees WHERE employee_id = 6;\")   \n",
    "DML_database_2_py.commit()\n",
    "\n",
    "print(DML_2_py.rowcount, \"record(s) affected\") "
   ]
  },
  {
   "cell_type": "code",
   "execution_count": 21,
   "metadata": {},
   "outputs": [
    {
     "name": "stdout",
     "output_type": "stream",
     "text": [
      "(1, 'Jinna', 'Bhai', 'India', 100000)\n",
      "(2, 'Manji', 'Reddy', 'USA', 150000)\n",
      "(3, 'Jhansi', 'Reddy', 'Canada', 150000)\n",
      "(5, 'YYY', 'Reddy', 'USA', 350000)\n"
     ]
    }
   ],
   "source": [
    "DML_2_py.execute(\"SELECT * FROM employees;\")\n",
    "myresult = DML_2_py.fetchall()\n",
    "for row in myresult:\n",
    "    print(row)"
   ]
  },
  {
   "cell_type": "code",
   "execution_count": null,
   "metadata": {},
   "outputs": [],
   "source": []
  }
 ],
 "metadata": {
  "kernelspec": {
   "display_name": "Python 3",
   "language": "python",
   "name": "python3"
  },
  "language_info": {
   "codemirror_mode": {
    "name": "ipython",
    "version": 3
   },
   "file_extension": ".py",
   "mimetype": "text/x-python",
   "name": "python",
   "nbconvert_exporter": "python",
   "pygments_lexer": "ipython3",
   "version": "3.9.13"
  },
  "orig_nbformat": 4
 },
 "nbformat": 4,
 "nbformat_minor": 2
}
