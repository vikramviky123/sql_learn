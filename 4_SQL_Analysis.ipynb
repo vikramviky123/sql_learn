{
 "cells": [
  {
   "cell_type": "code",
   "execution_count": 1,
   "metadata": {},
   "outputs": [],
   "source": [
    "import mysql\n",
    "from mysql.connector import connect"
   ]
  },
  {
   "cell_type": "code",
   "execution_count": 8,
   "metadata": {},
   "outputs": [],
   "source": [
    "db_conn = connect(\n",
    "    \n",
    "host = \"localhost\",\n",
    "user = \"vikram\",\n",
    "password = \"123\",\n",
    "database = \"hr_emp\"\n",
    ")"
   ]
  },
  {
   "cell_type": "code",
   "execution_count": 9,
   "metadata": {},
   "outputs": [],
   "source": [
    "db_cursor = db_conn.cursor()"
   ]
  },
  {
   "cell_type": "code",
   "execution_count": 10,
   "metadata": {},
   "outputs": [
    {
     "name": "stdout",
     "output_type": "stream",
     "text": [
      "('course',)\n",
      "('department',)\n",
      "('departments',)\n",
      "('dept10_vw',)\n",
      "('dept_70vw',)\n",
      "('emp_dept_vw',)\n",
      "('emp_payment',)\n",
      "('employees',)\n",
      "('employees1',)\n",
      "('locations',)\n",
      "('student',)\n",
      "('test',)\n"
     ]
    }
   ],
   "source": [
    "db_cursor.execute(\"SHOW TABLES;\")\n",
    "for x in db_cursor:\n",
    "    print(x)"
   ]
  },
  {
   "cell_type": "code",
   "execution_count": 11,
   "metadata": {},
   "outputs": [
    {
     "name": "stdout",
     "output_type": "stream",
     "text": [
      "('course_id', b'int', 'NO', 'PRI', None, '')\n",
      "('course_name', b'varchar(20)', 'NO', '', None, '')\n"
     ]
    }
   ],
   "source": [
    "db_cursor.execute(\"DESCRIBE COURSE;\")\n",
    "for x in db_cursor:\n",
    "    print(x)"
   ]
  },
  {
   "cell_type": "code",
   "execution_count": 12,
   "metadata": {},
   "outputs": [
    {
     "name": "stdout",
     "output_type": "stream",
     "text": [
      "(1, 'Aman', 'Sharma', 'ASHARMA', '715.234.4577', datetime.date(1977, 6, 16), 'AD_VP', Decimal('34000.00'), None, 1, None)\n",
      "(2, 'Gopi', 'Kumar', 'GKUMAR', '715.134.8765', datetime.date(1979, 9, 27), 'AD_PRES', Decimal('29000.00'), None, 2, 50)\n",
      "(3, 'Laxman', 'Dubey', 'LDUBEY', '915.173.8969', datetime.date(1983, 1, 23), 'AD_VP', Decimal('28000.00'), None, 1, 50)\n",
      "(4, 'Abhishek', 'Sharma', 'ASHARMA', '901.765.7869', datetime.date(1996, 1, 30), 'FI_MGR', Decimal('15000.00'), None, 3, 70)\n",
      "(5, 'Bhuvan', 'Bhosle', 'BBHOSLE', '999.673.9878', datetime.date(1982, 5, 1), 'FI_MGR', Decimal('13000.00'), None, 3, 70)\n",
      "(6, 'Danny', 'Devgan', 'DDEVGAN', '902.876.9498', datetime.date(1987, 6, 12), 'FI_MGR', Decimal('11000.00'), None, 3, 70)\n",
      "(7, 'Velur', 'Patel', 'VPATEL', '987.654.9765', datetime.date(1992, 2, 27), 'FI_MGR', Decimal('16000.00'), None, 3, 70)\n",
      "(8, 'Akshay', 'Upadhyay', 'AUPADHYAY', '922.354.9786', datetime.date(1981, 3, 18), 'FI_MGR', Decimal('13500.00'), None, 3, 70)\n",
      "(9, 'Nitin', 'Gautam', 'NGAUTAM', '782.144.9865', datetime.date(1987, 9, 12), 'IT_PROG', Decimal('4700.00'), None, 6, 10)\n",
      "(10, 'Abhishek', 'Fandnavis', 'AFANDNAVIS', '782.098.7480', datetime.date(1999, 11, 10), 'IT_PROG', Decimal('5700.00'), None, 6, 10)\n",
      "(11, 'Jack', 'Carle', 'JCARLE', '678.986.7456', datetime.date(1999, 12, 9), 'IT_PROG', Decimal('9300.00'), None, 6, 10)\n",
      "(12, 'Ishan', 'Malik', 'IMALIK', '895.785.9724', datetime.date(1987, 9, 15), 'IT_PROG', Decimal('9100.00'), None, 6, 10)\n",
      "(13, 'Usmaan', 'Sheikh', 'USHEIKH', '762.952.7693', datetime.date(1998, 4, 29), 'IT_PROG', Decimal('7700.00'), None, 6, 10)\n",
      "(14, 'Lohan', 'Kumar', 'LKUMAR', '667.984.1098', datetime.date(1992, 12, 18), 'IT_PROG', Decimal('8500.00'), None, 6, 10)\n",
      "(15, 'Abhyuday', 'Sahu', 'ASAHU', '624.960.2867', datetime.date(1998, 11, 11), 'FI_ACCOUNT', Decimal('19000.00'), None, 7, 99)\n",
      "(16, 'Gaurav', 'Sharma', 'GSHARMA', '748.539.9750', datetime.date(1996, 4, 14), 'FI_ACCOUNT', Decimal('16000.00'), None, 7, 99)\n",
      "(17, 'Sheikh', 'Hamza', 'SHAMZA', '867.567.9723', datetime.date(1989, 11, 30), 'FI_ACCOUNT', Decimal('11000.00'), None, 7, 99)\n",
      "(18, 'Hussain', 'Malik', 'HMALIK', '978.149.9758', datetime.date(1982, 6, 12), 'FI_ACCOUNT', Decimal('13200.00'), None, 7, 99)\n",
      "(19, 'Gustav', 'Khan', 'GKHAN', '978.213.9784', datetime.date(1993, 1, 11), 'FI_ACCOUNT', Decimal('14600.00'), None, 7, 99)\n",
      "(20, 'Karan', 'Malhotra', 'KMALHOTRA', '764.859.2547', datetime.date(1989, 8, 15), 'FI_ACCOUNT', Decimal('11200.00'), None, 7, 99)\n",
      "(21, 'Manish', 'Juneja', 'MJUNEJA', '761.398.6745', datetime.date(1992, 6, 23), 'PU_CLERK', Decimal('3500.00'), None, 5, 77)\n",
      "(22, 'Udham', 'Singh', 'USINGH', '756.867.9784', datetime.date(1993, 5, 29), 'PU_CLERK', Decimal('4500.00'), None, 5, 77)\n",
      "(23, 'Payal', 'Meena', 'PMEENA', '876.087.2756', datetime.date(1985, 5, 17), 'PU_CLERK', Decimal('6300.00'), None, 5, 77)\n",
      "(24, 'Aradhna', 'Singh', 'ASINGH', '340.867.8724', datetime.date(1987, 11, 12), 'PU_CLERK', Decimal('7600.00'), None, 5, 77)\n",
      "(25, 'Kamini', 'Beniwal', 'KBENIWAL', '879.378.6502', datetime.date(1989, 1, 11), 'PU_CLERK', Decimal('8100.00'), None, 5, 77)\n",
      "(26, 'Jagriti', 'Bahal', 'JBAHAL', '873.973.1856', datetime.date(1999, 6, 19), 'PU_CLERK', Decimal('7900.00'), None, 5, 77)\n",
      "(27, 'Sang', 'Wuu', 'SWUU', '687.452.2769', datetime.date(1982, 11, 19), 'ST_CLERK', Decimal('4000.00'), None, 52, 22)\n",
      "(28, 'Jamie', 'Lannister', 'JLANNISTER', '756.769.1845', datetime.date(1998, 1, 21), 'ST_CLERK', Decimal('3400.00'), None, 52, 22)\n",
      "(29, 'Nina', 'Dobrev', 'NDOBREV', '654.182.7684', datetime.date(1996, 4, 9), 'ST_CLERK', Decimal('4300.00'), None, 52, 22)\n",
      "(30, 'Leslie', 'Winkle', 'LWinkle', '879.435.9785', datetime.date(1976, 4, 21), 'ST_CLERK', Decimal('2700.00'), None, 52, 22)\n",
      "(31, 'Mohammad', 'Salman', 'MSALMAN', '768.435.9784', datetime.date(1986, 10, 10), 'ST_CLERK', Decimal('5600.00'), None, 52, 22)\n",
      "(32, 'Aakash', 'Mishra', 'AMISHRA', '657.269.8745', datetime.date(1999, 6, 19), 'ST_CLERK', Decimal('3900.00'), None, 52, 22)\n",
      "(33, 'Niti', 'Palta', 'NPALTA', '568.189.6578', datetime.date(2000, 4, 28), 'ST_CLERK', Decimal('4100.00'), None, 52, 22)\n",
      "(34, 'Shina', 'Wilson', 'SWILSON', '867.190.0076', datetime.date(1999, 4, 18), 'ST_CLERK', Decimal('4800.00'), None, 52, 22)\n",
      "(35, 'Mitchell', 'Robert', 'MROBERT', '875.436.0002', datetime.date(1978, 10, 2), 'ST_CLERK', Decimal('7800.00'), None, 52, 22)\n",
      "(36, 'Lee', 'San', 'LSAN', '645.187.9754', datetime.date(1998, 9, 11), 'ST_CLERK', Decimal('4500.00'), None, 52, 22)\n",
      "(37, 'Sania', 'Keech', 'SKEECH', '431.896.7665', datetime.date(1993, 2, 28), 'ST_CLERK', Decimal('3300.00'), None, 52, 22)\n",
      "(38, 'Rachel', 'Downey', 'RDOWNEY', '759.124.8479', datetime.date(1990, 5, 23), 'ST_CLERK', Decimal('5300.00'), None, 52, 22)\n",
      "(39, 'Rose', 'Khan', 'RKHAN', '786.772.9875', datetime.date(1989, 1, 11), 'ST_CLERK', Decimal('4700.00'), None, 52, 22)\n",
      "(40, 'Shalini', 'Kumar', 'SKUMAR', '991.867.9549', datetime.date(1978, 3, 21), 'ST_CLERK', Decimal('3100.00'), None, 52, 22)\n",
      "(41, 'Sneha', 'Ghosh', 'SGHOSH', '867.823.8963', datetime.date(1988, 2, 11), 'ST_CLERK', Decimal('4400.00'), None, 52, 22)\n",
      "(42, 'Troy', 'Sharma', 'TSHARMA', '768.766.8877', datetime.date(1978, 11, 11), 'ST_CLERK', Decimal('2400.00'), None, 52, 22)\n",
      "(43, 'Candy', 'Hussain', 'CHUSSAIN', '973.065.1365', datetime.date(1962, 4, 12), 'ST_CLERK', Decimal('6200.00'), None, 52, 22)\n",
      "(44, 'Rishabh', 'Pant', 'RPANT', '789.232.9867', datetime.date(1979, 4, 1), 'ST_CLERK', Decimal('3200.00'), None, 52, 22)\n",
      "(45, 'Purv', 'Vyas', 'PVYAS', '476.978.2001', datetime.date(1991, 6, 11), 'ST_CLERK', Decimal('4300.00'), None, 52, 22)\n",
      "(46, 'Jamilla', 'Pattinson', 'JPATTINSON', '011.27.8765.980768', datetime.date(1975, 9, 10), 'ST_MAN', Decimal('8000.00'), Decimal('0.15'), 1, 55)\n",
      "(47, 'Kevin', 'Peter', 'KPETER', '011.22.8675.967869', datetime.date(1993, 4, 10), 'ST_MAN', Decimal('9500.00'), Decimal('0.25'), 1, 55)\n",
      "(48, 'Alpin', 'Liebo', 'ALIEBO', '011.22.9844.010135', datetime.date(1987, 4, 16), 'ST_MAN', Decimal('8900.00'), Decimal('0.35'), 1, 55)\n",
      "(49, 'Hardik', 'Patel', 'HPATEL', '011.88.6460.927543', datetime.date(1972, 11, 19), 'ST_MAN', Decimal('10000.00'), Decimal('0.45'), 1, 55)\n",
      "(50, 'Elena', 'Koshka', 'EKOSHKA', '011.56.9876.996622', datetime.date(1997, 3, 31), 'ST_MAN', Decimal('14300.00'), Decimal('0.55'), 1, 55)\n",
      "(51, 'Ajay', 'Mishra', 'AMISHRA', '011.77.9897.979977', datetime.date(1999, 4, 11), 'SA_MAN', Decimal('19000.00'), Decimal('0.22'), 2, 45)\n",
      "(52, 'Kapil', 'Sharma', 'KSHARMA', '011.33.9786.008866', datetime.date(1991, 10, 18), 'SA_MAN', Decimal('17300.00'), Decimal('0.42'), 2, 45)\n",
      "(53, 'Samuel', 'Gill', 'SGILL', '011.99.8833.866740', datetime.date(1992, 9, 19), 'SA_MAN', Decimal('11200.00'), Decimal('0.52'), 2, 45)\n",
      "(54, 'Chameli', 'Singh', 'CSINGH', '011.68.7654.967486', datetime.date(1988, 4, 30), 'SA_MAN', Decimal('10300.00'), Decimal('0.23'), 2, 45)\n",
      "(55, 'Nancy', 'Bisht', 'NBISHT', '011.32.8674.968745', datetime.date(1976, 4, 18), 'SA_MAN', Decimal('18700.00'), Decimal('0.43'), 2, 45)\n",
      "(56, 'Ujjwal', 'Seth', 'USETH', '011.99.7689.987859', datetime.date(1995, 8, 13), 'SA_MAN', Decimal('13200.00'), Decimal('0.23'), 2, 45)\n",
      "(57, 'Jasleen', 'Kaur', 'JKAUR', '011.66.7689.756365', datetime.date(1999, 4, 10), 'SA_MAN', Decimal('12100.00'), Decimal('0.52'), 2, 45)\n",
      "(58, 'Yasmeen', 'Nair', 'YNAIR', '011.88.8765.867429', datetime.date(1987, 5, 18), 'SA_MAN', Decimal('7600.00'), Decimal('0.48'), 2, 45)\n",
      "(59, 'Esha', 'Chopra', 'ECHOPRA', '011.86.8974.978465', datetime.date(1978, 2, 10), 'SA_MAN', Decimal('18200.00'), Decimal('0.51'), 2, 45)\n",
      "(60, 'Lovely', 'Pandey', 'LPandey', '011.88.8765.978537', datetime.date(1998, 5, 16), 'SA_MAN', Decimal('6000.00'), Decimal('0.41'), 2, 45)\n",
      "(61, 'Rauf', 'Ali', 'RALI', '011.77.8858.867689', datetime.date(1988, 1, 8), 'SA_MAN', Decimal('9900.00'), Decimal('0.51'), 2, 45)\n",
      "(62, 'Sameer', 'Prem', 'SPREM', '011.55.8767.877568', datetime.date(1989, 1, 11), 'SA_MAN', Decimal('14200.00'), Decimal('0.63'), 2, 45)\n",
      "(63, 'Claire', 'Jacobs', 'CJACOBS', '011.55.9787.864595', datetime.date(1999, 2, 17), 'SA_MAN', Decimal('15100.00'), Decimal('0.37'), 2, 45)\n",
      "(64, 'Danish', 'Sidiqqui', 'DSIDIQQUI', '011.55.8774.876435', datetime.date(1974, 1, 26), 'SA_MAN', Decimal('11200.00'), Decimal('0.17'), 2, 45)\n",
      "(65, 'Manish', 'Sehgal', 'MSEHGAL', '011.78.7654.678945', datetime.date(1994, 5, 13), 'SA_MAN', Decimal('14300.00'), Decimal('0.19'), 2, 45)\n",
      "(66, 'Daksh', 'Singh', 'DSINGH', '011.88.8674.8667403', datetime.date(1999, 12, 25), 'SA_MAN', Decimal('7600.00'), Decimal('0.13'), 2, 45)\n",
      "(67, 'Saksham', 'Khera', 'SKHERA', '011.55.7678.768545', datetime.date(1985, 5, 28), 'SA_MAN', Decimal('7900.00'), Decimal('0.18'), 2, 45)\n",
      "(68, 'Daisy', 'Modi', 'DMODI', '011.55.8675.9667453', datetime.date(1979, 4, 29), 'SA_MAN', Decimal('4500.00'), Decimal('0.35'), 2, 45)\n",
      "(69, 'Lavnya', 'Thakur', 'LTHAKUR', '011.55.6745.867549', datetime.date(1986, 4, 18), 'SA_MAN', Decimal('13200.00'), Decimal('0.32'), 2, 45)\n",
      "(70, 'Samarth', 'Taneja', 'STANEJA', '011.55.8674.879543', datetime.date(1992, 5, 13), 'SA_MAN', Decimal('12000.00'), Decimal('0.25'), 2, 45)\n",
      "(71, 'Tarun', 'Rana', 'TRANA', '011.76.6785.876453', datetime.date(1996, 4, 15), 'SA_MAN', Decimal('16500.00'), Decimal('0.31'), 2, 45)\n",
      "(72, 'Vikas', 'Dubey', 'VDUBEY', '011.56.6574.765434', datetime.date(1985, 2, 16), 'SA_MAN', Decimal('7800.00'), Decimal('0.33'), 2, 45)\n",
      "(73, 'Aditi', 'Sarkar', 'ASARKAR', '011.66.9373.885522', datetime.date(1993, 4, 2), 'SA_MAN', Decimal('6200.00'), Decimal('0.21'), 2, 45)\n",
      "(74, 'Sundar', 'Pichai', 'SPICHAI', '011.53.8675.653987', datetime.date(1998, 5, 13), 'SA_MAN', Decimal('4300.00'), Decimal('0.23'), 2, 45)\n",
      "(75, 'Manya', 'Dutt', 'MDUTT', '011.42.8764.978653', datetime.date(1992, 4, 19), 'SA_MAN', Decimal('15100.00'), Decimal('0.27'), 2, 45)\n",
      "(76, 'Aisha', 'Shome', 'ASHOME', '011.56.7654.879345', datetime.date(1991, 3, 12), 'SA_MAN', Decimal('4600.00'), Decimal('0.21'), 2, 45)\n",
      "(77, 'Justin', 'Scot', 'JSCOT', '011.78.8754.756345', datetime.date(1999, 6, 13), 'SA_MAN', Decimal('9800.00'), Decimal('0.34'), 2, 45)\n",
      "(78, 'Chen', 'Woo', 'CWOO', '011.67.6543.786543', datetime.date(2000, 5, 12), 'SA_MAN', Decimal('5800.00'), Decimal('0.16'), 2, 45)\n",
      "(79, 'Karanveer', 'Shekhawat', 'KSHEKHAWAT', '011.45.8765.765432', datetime.date(2000, 1, 12), 'SA_MAN', Decimal('6000.00'), Decimal('0.18'), 7, None)\n",
      "(80, 'Sophie', 'Turner', 'STURNER', '011.55.8765.768457', datetime.date(1976, 4, 16), 'SA_MAN', Decimal('5300.00'), Decimal('0.17'), 2, 45)\n",
      "(81, 'Hamza', 'Sheikh', 'HSHEIKH', '765.875.8674', datetime.date(1993, 11, 13), 'SA_REP', Decimal('4300.00'), None, 4, 38)\n",
      "(82, 'Azhar', 'Asim', 'AASIM', '765.765.8765', datetime.date(1999, 1, 15), 'SA_REP', Decimal('4300.00'), None, 4, 38)\n",
      "(83, 'Mohit', 'Makhija', 'MMAKHIJA', '756.543.8764', datetime.date(2000, 6, 16), 'SA_REP', Decimal('4300.00'), None, 4, 38)\n",
      "(84, 'Gaurav', 'Pandey', 'GPANDEY', '850.657.7654', datetime.date(1971, 4, 23), 'SA_REP', Decimal('25000.00'), None, 4, 38)\n",
      "(85, 'Nandita', 'Mondal', 'NMONDAL', '543.876.6543', datetime.date(1975, 11, 15), 'SA_REP', Decimal('18000.00'), None, 4, 38)\n",
      "(86, 'Arnav', 'Sharma', 'ASHARMA', '430.765.7654', datetime.date(1994, 1, 14), 'SA_REP', Decimal('5600.00'), None, 4, 38)\n",
      "(87, 'Jesse', 'Pinkman', 'JPINKMAN', '765.876.4365', datetime.date(1999, 12, 18), 'SA_REP', Decimal('7800.00'), None, 4, 38)\n",
      "(88, 'Asim', 'Khan', 'AKHAN', '674.765.7643', datetime.date(2001, 3, 19), 'SA_REP', Decimal('8000.00'), None, 4, 38)\n",
      "(89, 'Ajay', 'Nagar', 'ANAGAR', '345.765.7632', datetime.date(1999, 4, 12), 'SA_REP', Decimal('5900.00'), None, 4, 38)\n",
      "(90, 'Simmy', 'Jaiswal', 'SJAISWAL', '987.762.4832', datetime.date(1999, 12, 8), 'SA_REP', Decimal('7600.00'), None, 4, 38)\n",
      "(91, 'Tiffani', 'Jacobs', 'TJACOBS', '543.785.8675', datetime.date(2000, 6, 23), 'MK_MAN', Decimal('9500.00'), None, 3, 52)\n",
      "(92, 'Rohit', 'Dhawan', 'RDHAWAN', '867.978.9865', datetime.date(1989, 1, 25), 'MK_MAN', Decimal('17600.00'), None, 3, 52)\n",
      "(93, 'Sakshi', 'Reddy', 'SREDDY', '978.756.8674', datetime.date(1997, 9, 9), 'MK_MAN', Decimal('20000.00'), None, 3, 52)\n",
      "(94, 'Brec', 'Bassigner', 'BBASSIGNER', '967.876.9784', datetime.date(1999, 4, 8), 'HR_REP', Decimal('9900.00'), None, 90, 69)\n",
      "(95, 'Gopinath', 'Ramgopalan', 'GRAMGOPALAN', '432.643.8796', datetime.date(1978, 9, 5), 'HR_REP', Decimal('13400.00'), None, 90, 69)\n",
      "(96, 'Vaani', 'Hasina', 'VHASINA', '456.756.9786', datetime.date(1995, 5, 30), 'PR_REP', Decimal('5600.00'), None, 93, 73)\n",
      "(97, 'Sunakshi', 'Motwani', 'SMOTWANI', '870.912.9213', datetime.date(1995, 5, 11), 'PR_REP', Decimal('8700.00'), None, 93, 73)\n",
      "(98, 'Chris', 'Hemsworth', 'CHEMSWORTH', '968.678.7683', datetime.date(1992, 7, 1), 'PR_REP', Decimal('7800.00'), None, 93, 73)\n",
      "(99, 'Alia', 'Kohli', 'AKOHLI', '234.876.6790', datetime.date(1998, 11, 30), 'PR_REP', Decimal('6900.00'), None, 93, 73)\n",
      "(100, 'Durga', 'Singh', 'DSINGH', '987.876.7659', datetime.date(1999, 2, 15), 'AC_MGR', Decimal('7800.00'), None, 72, 88)\n",
      "(101, 'Atul', 'Bhagnani', 'ABHAGNANI', '645.987.7658', datetime.date(1996, 11, 19), 'AC_ACCOUNT', Decimal('34000.00'), None, 77, 89)\n",
      "(102, 'Ashok', 'Mishra', 'AMISHRA', '543.765.8765', datetime.date(1979, 3, 27), 'AD_ASST', Decimal('19000.00'), None, 63, 19)\n",
      "(103, 'Yaseer', 'Khan', 'YKHAN', '798.234.9786', datetime.date(1993, 12, 19), 'MK_REP', Decimal('9300.00'), None, 92, 91)\n"
     ]
    }
   ],
   "source": [
    "db_cursor.execute(\"SELECT * FROM employees;\")\n",
    "for x in db_cursor:\n",
    "    print(x)"
   ]
  },
  {
   "cell_type": "code",
   "execution_count": null,
   "metadata": {},
   "outputs": [],
   "source": []
  }
 ],
 "metadata": {
  "kernelspec": {
   "display_name": "myenv",
   "language": "python",
   "name": "python3"
  },
  "language_info": {
   "codemirror_mode": {
    "name": "ipython",
    "version": 3
   },
   "file_extension": ".py",
   "mimetype": "text/x-python",
   "name": "python",
   "nbconvert_exporter": "python",
   "pygments_lexer": "ipython3",
   "version": "3.9.13"
  },
  "orig_nbformat": 4
 },
 "nbformat": 4,
 "nbformat_minor": 2
}
