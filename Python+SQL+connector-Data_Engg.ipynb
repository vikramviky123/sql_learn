{
 "cells": [
  {
   "cell_type": "code",
   "execution_count": 1,
   "metadata": {},
   "outputs": [],
   "source": [
    "import pymysql"
   ]
  },
  {
   "cell_type": "code",
   "execution_count": 2,
   "metadata": {},
   "outputs": [],
   "source": [
    "myConnection = pymysql.connect( host='localhost', \n",
    "                               user='vikram', \n",
    "                               passwd='123',\n",
    "                               db='hr_emp' )"
   ]
  },
  {
   "cell_type": "code",
   "execution_count": 3,
   "metadata": {},
   "outputs": [],
   "source": [
    "cur = myConnection.cursor()"
   ]
  },
  {
   "cell_type": "code",
   "execution_count": 4,
   "metadata": {},
   "outputs": [
    {
     "name": "stdout",
     "output_type": "stream",
     "text": [
      "((4, 'Abhishek', 'Sharma', 'ASHARMA', '901.765.7869', datetime.date(1996, 1, 30), 'FI_MGR', Decimal('15000.00'), None, 3, 70), (5, 'Bhuvan', 'Bhosle', 'BBHOSLE', '999.673.9878', datetime.date(1982, 5, 1), 'FI_MGR', Decimal('13000.00'), None, 3, 70), (6, 'Danny', 'Devgan', 'DDEVGAN', '902.876.9498', datetime.date(1987, 6, 12), 'FI_MGR', Decimal('11000.00'), None, 3, 70), (7, 'Velur', 'Patel', 'VPATEL', '987.654.9765', datetime.date(1992, 2, 27), 'FI_MGR', Decimal('16000.00'), None, 3, 70), (8, 'Akshay', 'Upadhyay', 'AUPADHYAY', '922.354.9786', datetime.date(1981, 3, 18), 'FI_MGR', Decimal('13500.00'), None, 3, 70), (91, 'Tiffani', 'Jacobs', 'TJACOBS', '543.785.8675', datetime.date(2000, 6, 23), 'MK_MAN', Decimal('9500.00'), None, 3, 52), (92, 'Rohit', 'Dhawan', 'RDHAWAN', '867.978.9865', datetime.date(1989, 1, 25), 'MK_MAN', Decimal('17600.00'), None, 3, 52), (93, 'Sakshi', 'Reddy', 'SREDDY', '978.756.8674', datetime.date(1997, 9, 9), 'MK_MAN', Decimal('20000.00'), None, 3, 52))\n"
     ]
    }
   ],
   "source": [
    "cur.execute(\"SELECT * FROM employees where manager_id = 3\")\n",
    "myresult = cur.fetchall()  \n",
    "print(myresult)"
   ]
  },
  {
   "cell_type": "code",
   "execution_count": 6,
   "metadata": {},
   "outputs": [
    {
     "data": {
      "text/plain": [
       "((9, 'Nitin', 'Gautam', 10, Decimal('4700.00'), 'Human Resources'),\n",
       " (10, 'Abhishek', 'Fandnavis', 10, Decimal('5700.00'), 'Human Resources'),\n",
       " (11, 'Jack', 'Carle', 10, Decimal('9300.00'), 'Human Resources'),\n",
       " (12, 'Ishan', 'Malik', 10, Decimal('9100.00'), 'Human Resources'),\n",
       " (13, 'Usmaan', 'Sheikh', 10, Decimal('7700.00'), 'Human Resources'))"
      ]
     },
     "execution_count": 6,
     "metadata": {},
     "output_type": "execute_result"
    }
   ],
   "source": [
    "cur.execute(\"select e.employee_id, e.first_name, e.last_name, e.department_id,e.salary, d.department_name \\\n",
    "            from employees e inner join departments d \\\n",
    "            on e.department_id = d.department_id;\")\n",
    "cur.fetchmany(5)"
   ]
  },
  {
   "cell_type": "code",
   "execution_count": 7,
   "metadata": {},
   "outputs": [],
   "source": [
    "import pandas as pd"
   ]
  },
  {
   "cell_type": "code",
   "execution_count": 8,
   "metadata": {},
   "outputs": [
    {
     "name": "stderr",
     "output_type": "stream",
     "text": [
      "C:\\Users\\91981\\AppData\\Local\\Temp\\ipykernel_5016\\3686077838.py:1: UserWarning: pandas only supports SQLAlchemy connectable (engine/connection) or database string URI or sqlite3 DBAPI2 connection. Other DBAPI2 objects are not tested. Please consider using SQLAlchemy.\n",
      "  SQL_Query = pd.read_sql_query('SELECT * FROM employees where manager_id = 3', myConnection)\n"
     ]
    }
   ],
   "source": [
    "SQL_Query = pd.read_sql_query('SELECT * FROM employees where manager_id = 3', myConnection)"
   ]
  },
  {
   "cell_type": "code",
   "execution_count": 9,
   "metadata": {},
   "outputs": [
    {
     "data": {
      "text/plain": [
       "pandas.core.frame.DataFrame"
      ]
     },
     "execution_count": 9,
     "metadata": {},
     "output_type": "execute_result"
    }
   ],
   "source": [
    "type(SQL_Query)"
   ]
  },
  {
   "cell_type": "code",
   "execution_count": 10,
   "metadata": {},
   "outputs": [
    {
     "name": "stderr",
     "output_type": "stream",
     "text": [
      "C:\\Users\\91981\\AppData\\Local\\Temp\\ipykernel_5016\\695234650.py:1: UserWarning: pandas only supports SQLAlchemy connectable (engine/connection) or database string URI or sqlite3 DBAPI2 connection. Other DBAPI2 objects are not tested. Please consider using SQLAlchemy.\n",
      "  SQL_Query1 = pd.read_sql_query(\"select e.employee_id, e.first_name, e.last_name, e.department_id, d.department_name \\\n"
     ]
    }
   ],
   "source": [
    "SQL_Query1 = pd.read_sql_query(\"select e.employee_id, e.first_name, e.last_name, e.department_id, d.department_name \\\n",
    "            from employees e inner join departments d \\\n",
    "            on e.department_id = d.department_id\", myConnection)"
   ]
  },
  {
   "cell_type": "code",
   "execution_count": 11,
   "metadata": {},
   "outputs": [
    {
     "data": {
      "text/html": [
       "<div>\n",
       "<style scoped>\n",
       "    .dataframe tbody tr th:only-of-type {\n",
       "        vertical-align: middle;\n",
       "    }\n",
       "\n",
       "    .dataframe tbody tr th {\n",
       "        vertical-align: top;\n",
       "    }\n",
       "\n",
       "    .dataframe thead th {\n",
       "        text-align: right;\n",
       "    }\n",
       "</style>\n",
       "<table border=\"1\" class=\"dataframe\">\n",
       "  <thead>\n",
       "    <tr style=\"text-align: right;\">\n",
       "      <th></th>\n",
       "      <th>employee_id</th>\n",
       "      <th>first_name</th>\n",
       "      <th>last_name</th>\n",
       "      <th>department_id</th>\n",
       "      <th>department_name</th>\n",
       "    </tr>\n",
       "  </thead>\n",
       "  <tbody>\n",
       "    <tr>\n",
       "      <th>0</th>\n",
       "      <td>9</td>\n",
       "      <td>Nitin</td>\n",
       "      <td>Gautam</td>\n",
       "      <td>10</td>\n",
       "      <td>Human Resources</td>\n",
       "    </tr>\n",
       "    <tr>\n",
       "      <th>1</th>\n",
       "      <td>10</td>\n",
       "      <td>Abhishek</td>\n",
       "      <td>Fandnavis</td>\n",
       "      <td>10</td>\n",
       "      <td>Human Resources</td>\n",
       "    </tr>\n",
       "    <tr>\n",
       "      <th>2</th>\n",
       "      <td>11</td>\n",
       "      <td>Jack</td>\n",
       "      <td>Carle</td>\n",
       "      <td>10</td>\n",
       "      <td>Human Resources</td>\n",
       "    </tr>\n",
       "    <tr>\n",
       "      <th>3</th>\n",
       "      <td>12</td>\n",
       "      <td>Ishan</td>\n",
       "      <td>Malik</td>\n",
       "      <td>10</td>\n",
       "      <td>Human Resources</td>\n",
       "    </tr>\n",
       "    <tr>\n",
       "      <th>4</th>\n",
       "      <td>13</td>\n",
       "      <td>Usmaan</td>\n",
       "      <td>Sheikh</td>\n",
       "      <td>10</td>\n",
       "      <td>Human Resources</td>\n",
       "    </tr>\n",
       "    <tr>\n",
       "      <th>...</th>\n",
       "      <td>...</td>\n",
       "      <td>...</td>\n",
       "      <td>...</td>\n",
       "      <td>...</td>\n",
       "      <td>...</td>\n",
       "    </tr>\n",
       "    <tr>\n",
       "      <th>96</th>\n",
       "      <td>16</td>\n",
       "      <td>Gaurav</td>\n",
       "      <td>Sharma</td>\n",
       "      <td>99</td>\n",
       "      <td>Payroll</td>\n",
       "    </tr>\n",
       "    <tr>\n",
       "      <th>97</th>\n",
       "      <td>17</td>\n",
       "      <td>Sheikh</td>\n",
       "      <td>Hamza</td>\n",
       "      <td>99</td>\n",
       "      <td>Payroll</td>\n",
       "    </tr>\n",
       "    <tr>\n",
       "      <th>98</th>\n",
       "      <td>18</td>\n",
       "      <td>Hussain</td>\n",
       "      <td>Malik</td>\n",
       "      <td>99</td>\n",
       "      <td>Payroll</td>\n",
       "    </tr>\n",
       "    <tr>\n",
       "      <th>99</th>\n",
       "      <td>19</td>\n",
       "      <td>Gustav</td>\n",
       "      <td>Khan</td>\n",
       "      <td>99</td>\n",
       "      <td>Payroll</td>\n",
       "    </tr>\n",
       "    <tr>\n",
       "      <th>100</th>\n",
       "      <td>20</td>\n",
       "      <td>Karan</td>\n",
       "      <td>Malhotra</td>\n",
       "      <td>99</td>\n",
       "      <td>Payroll</td>\n",
       "    </tr>\n",
       "  </tbody>\n",
       "</table>\n",
       "<p>101 rows × 5 columns</p>\n",
       "</div>"
      ],
      "text/plain": [
       "     employee_id first_name  last_name  department_id  department_name\n",
       "0              9      Nitin     Gautam             10  Human Resources\n",
       "1             10   Abhishek  Fandnavis             10  Human Resources\n",
       "2             11       Jack      Carle             10  Human Resources\n",
       "3             12      Ishan      Malik             10  Human Resources\n",
       "4             13     Usmaan     Sheikh             10  Human Resources\n",
       "..           ...        ...        ...            ...              ...\n",
       "96            16     Gaurav     Sharma             99          Payroll\n",
       "97            17     Sheikh      Hamza             99          Payroll\n",
       "98            18    Hussain      Malik             99          Payroll\n",
       "99            19     Gustav       Khan             99          Payroll\n",
       "100           20      Karan   Malhotra             99          Payroll\n",
       "\n",
       "[101 rows x 5 columns]"
      ]
     },
     "execution_count": 11,
     "metadata": {},
     "output_type": "execute_result"
    }
   ],
   "source": [
    "SQL_Query1"
   ]
  },
  {
   "cell_type": "code",
   "execution_count": 12,
   "metadata": {},
   "outputs": [],
   "source": [
    "myConnection.close()"
   ]
  },
  {
   "cell_type": "code",
   "execution_count": 13,
   "metadata": {},
   "outputs": [],
   "source": [
    "import mysql\n",
    "from mysql import connector\n",
    "from mysql.connector import connect"
   ]
  },
  {
   "cell_type": "code",
   "execution_count": null,
   "metadata": {},
   "outputs": [],
   "source": [
    "demodb = connect(\n",
    "  host=\"localhost\",\n",
    "  user=\"vikram\",\n",
    "  password=\"123\"\n",
    ")\n",
    "\n",
    "print(demodb)\n",
    "demoCursor = demodb.cursor()\n",
    "demoCursor.execute(\"CREATE DATABASE demo_db\")"
   ]
  },
  {
   "cell_type": "code",
   "execution_count": 6,
   "metadata": {},
   "outputs": [],
   "source": [
    "demodb = connect(\n",
    "  host=\"localhost\",\n",
    "  user=\"vikram\",\n",
    "  password=\"123\",\n",
    "  database = \"demo_db\"\n",
    ")\n",
    "\n",
    "demoCursor = demodb.cursor()"
   ]
  },
  {
   "cell_type": "code",
   "execution_count": 206,
   "metadata": {},
   "outputs": [],
   "source": [
    "demoCursor.execute(\"DROP TABLE Customers\")"
   ]
  },
  {
   "cell_type": "code",
   "execution_count": 207,
   "metadata": {},
   "outputs": [],
   "source": [
    "crt_table = \"\"\"\n",
    "CREATE TABLE Orders(\n",
    "      OrderID INT, \n",
    "      CustomerID VARCHAR(200),\n",
    "      OrderDate VARCHAR(200)\n",
    "      );\n",
    "      \"\"\"\n",
    "\n",
    "\n",
    "      "
   ]
  },
  {
   "cell_type": "code",
   "execution_count": 208,
   "metadata": {},
   "outputs": [
    {
     "name": "stdout",
     "output_type": "stream",
     "text": [
      "('orders',)\n"
     ]
    }
   ],
   "source": [
    "demoCursor.execute(crt_table)\n",
    "demoCursor.execute(\"SHOW TABLES\")\n",
    "for x in demoCursor:\n",
    "    print(x) "
   ]
  },
  {
   "cell_type": "code",
   "execution_count": 209,
   "metadata": {},
   "outputs": [
    {
     "name": "stdout",
     "output_type": "stream",
     "text": [
      "('OrderID', b'int', 'YES', '', None, '')\n",
      "('CustomerID', b'varchar(200)', 'YES', '', None, '')\n",
      "('OrderDate', b'varchar(200)', 'YES', '', None, '')\n"
     ]
    }
   ],
   "source": [
    "demoCursor.execute(\"DESCRIBE Orders\")\n",
    "for x in demoCursor:\n",
    "    print(x) "
   ]
  },
  {
   "cell_type": "code",
   "execution_count": 210,
   "metadata": {},
   "outputs": [
    {
     "name": "stdout",
     "output_type": "stream",
     "text": [
      "[('10308', '2', '18-09-1996'), ('10309', '37', '19-09-1996'), ('10310', '77', '20-09-1996')]\n"
     ]
    }
   ],
   "source": [
    "import csv\n",
    "import re\n",
    "\n",
    "generate_list = []\n",
    "\n",
    "with open(\"data.csv\",mode=\"r\") as csvFile:\n",
    "    csv_reader = csv.reader(csvFile)\n",
    "    \n",
    " \n",
    "    fline = next(csv_reader)\n",
    "\n",
    "    for row in csv_reader: \n",
    "        generate_list.append(tuple(row))\n",
    "\n",
    "print(generate_list)"
   ]
  },
  {
   "cell_type": "code",
   "execution_count": 211,
   "metadata": {},
   "outputs": [],
   "source": [
    "demoCursor.execute(\"TRUNCATE TABLE Orders\")\n",
    "demoCursor.execute(\"SELECT * FROM Orders\")\n",
    "for x in demoCursor:\n",
    "    print(x) "
   ]
  },
  {
   "cell_type": "code",
   "execution_count": 213,
   "metadata": {},
   "outputs": [],
   "source": [
    "sql = \"INSERT INTO Orders (OrderID,CustomerID,OrderDate) VALUES (%s, %s, %s)\"\n",
    "\n",
    "demoCursor.executemany(sql, generate_list)"
   ]
  },
  {
   "cell_type": "code",
   "execution_count": 214,
   "metadata": {},
   "outputs": [
    {
     "name": "stdout",
     "output_type": "stream",
     "text": [
      "3 was inserted.\n"
     ]
    }
   ],
   "source": [
    "demodb.commit()\n",
    "\n",
    "print(demoCursor.rowcount, \"was inserted.\")"
   ]
  },
  {
   "cell_type": "code",
   "execution_count": 216,
   "metadata": {},
   "outputs": [
    {
     "name": "stdout",
     "output_type": "stream",
     "text": [
      "(10308, '2', '18-09-1996')\n",
      "(10309, '37', '19-09-1996')\n",
      "(10310, '77', '20-09-1996')\n"
     ]
    }
   ],
   "source": [
    "demoCursor.execute(\"SELECT * FROM Orders\")\n",
    "for x in demoCursor:\n",
    "    print(x) "
   ]
  },
  {
   "cell_type": "code",
   "execution_count": 203,
   "metadata": {},
   "outputs": [],
   "source": [
    "# demoCursor.execute(\"UPDATE Customers SET OrderDate = STR_TO_DATE(OrderDate, '%d-%m-%Y');\")"
   ]
  },
  {
   "cell_type": "code",
   "execution_count": 218,
   "metadata": {},
   "outputs": [],
   "source": [
    "demoCursor.execute(\"ALTER TABLE Orders MODIFY OrderID INT\")\n",
    " "
   ]
  },
  {
   "cell_type": "code",
   "execution_count": 219,
   "metadata": {},
   "outputs": [
    {
     "name": "stdout",
     "output_type": "stream",
     "text": [
      "(10308, '2', '18-09-1996')\n",
      "(10309, '37', '19-09-1996')\n",
      "(10310, '77', '20-09-1996')\n"
     ]
    }
   ],
   "source": [
    "demoCursor.execute(\"SELECT * FROM Orders\")\n",
    "for x in demoCursor:\n",
    "    print(x)"
   ]
  }
 ],
 "metadata": {
  "kernelspec": {
   "display_name": "Python 3 (ipykernel)",
   "language": "python",
   "name": "python3"
  },
  "language_info": {
   "codemirror_mode": {
    "name": "ipython",
    "version": 3
   },
   "file_extension": ".py",
   "mimetype": "text/x-python",
   "name": "python",
   "nbconvert_exporter": "python",
   "pygments_lexer": "ipython3",
   "version": "3.9.13"
  }
 },
 "nbformat": 4,
 "nbformat_minor": 4
}
