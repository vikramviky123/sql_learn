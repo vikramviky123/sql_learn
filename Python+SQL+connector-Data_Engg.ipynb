{
 "cells": [
  {
   "cell_type": "code",
   "execution_count": null,
   "metadata": {},
   "outputs": [],
   "source": [
    "import pymysql"
   ]
  },
  {
   "cell_type": "code",
   "execution_count": null,
   "metadata": {},
   "outputs": [],
   "source": [
    "myConnection = pymysql.connect( host='localhost', \n",
    "                               user='vikram', \n",
    "                               passwd='123',\n",
    "                               db='hr_emp' )"
   ]
  },
  {
   "cell_type": "code",
   "execution_count": null,
   "metadata": {},
   "outputs": [],
   "source": [
    "cur = myConnection.cursor()"
   ]
  },
  {
   "cell_type": "code",
   "execution_count": null,
   "metadata": {},
   "outputs": [],
   "source": [
    "cur.execute(\"SELECT * FROM employees where manager_id = 3\")\n",
    "myresult = cur.fetchall()  \n",
    "print(myresult)"
   ]
  },
  {
   "cell_type": "code",
   "execution_count": null,
   "metadata": {},
   "outputs": [],
   "source": [
    "cur.execute(\"select e.employee_id, e.first_name, e.last_name, e.department_id,e.salary, d.department_name \\\n",
    "            from employees e inner join departments d \\\n",
    "            on e.department_id = d.department_id;\")\n",
    "cur.fetchmany(5)"
   ]
  },
  {
   "cell_type": "code",
   "execution_count": null,
   "metadata": {},
   "outputs": [],
   "source": [
    "import pandas as pd"
   ]
  },
  {
   "cell_type": "code",
   "execution_count": null,
   "metadata": {},
   "outputs": [],
   "source": [
    "SQL_Query = pd.read_sql_query('SELECT * FROM employees where manager_id = 3', myConnection)"
   ]
  },
  {
   "cell_type": "code",
   "execution_count": null,
   "metadata": {},
   "outputs": [],
   "source": [
    "type(SQL_Query)"
   ]
  },
  {
   "cell_type": "code",
   "execution_count": null,
   "metadata": {},
   "outputs": [],
   "source": [
    "SQL_Query1 = pd.read_sql_query(\"select e.employee_id, e.first_name, e.last_name, e.department_id, d.department_name \\\n",
    "            from employees e inner join departments d \\\n",
    "            on e.department_id = d.department_id\", myConnection)"
   ]
  },
  {
   "cell_type": "code",
   "execution_count": null,
   "metadata": {},
   "outputs": [],
   "source": [
    "SQL_Query1"
   ]
  },
  {
   "cell_type": "code",
   "execution_count": null,
   "metadata": {},
   "outputs": [],
   "source": [
    "myConnection.close()"
   ]
  },
  {
   "cell_type": "code",
   "execution_count": 4,
   "metadata": {},
   "outputs": [],
   "source": [
    "import mysql\n",
    "from mysql import connector\n",
    "from mysql.connector import connect"
   ]
  },
  {
   "cell_type": "code",
   "execution_count": null,
   "metadata": {},
   "outputs": [],
   "source": [
    "demodb = connect(\n",
    "  host=\"localhost\",\n",
    "  user=\"vikram\",\n",
    "  password=\"123\"\n",
    ")\n",
    "\n",
    "print(demodb)\n",
    "demoCursor = demodb.cursor()\n",
    "demoCursor.execute(\"CREATE DATABASE demo_db\")"
   ]
  },
  {
   "cell_type": "code",
   "execution_count": 6,
   "metadata": {},
   "outputs": [],
   "source": [
    "demodb = connect(\n",
    "  host=\"localhost\",\n",
    "  user=\"vikram\",\n",
    "  password=\"123\",\n",
    "  database = \"demo_db\"\n",
    ")\n",
    "\n",
    "demoCursor = demodb.cursor()"
   ]
  },
  {
   "cell_type": "code",
   "execution_count": 206,
   "metadata": {},
   "outputs": [],
   "source": [
    "demoCursor.execute(\"DROP TABLE Customers\")"
   ]
  },
  {
   "cell_type": "code",
   "execution_count": 207,
   "metadata": {},
   "outputs": [],
   "source": [
    "crt_table = \"\"\"\n",
    "CREATE TABLE Orders(\n",
    "      OrderID INT, \n",
    "      CustomerID VARCHAR(200),\n",
    "      OrderDate VARCHAR(200)\n",
    "      );\n",
    "      \"\"\"\n",
    "\n",
    "\n",
    "      "
   ]
  },
  {
   "cell_type": "code",
   "execution_count": 208,
   "metadata": {},
   "outputs": [
    {
     "name": "stdout",
     "output_type": "stream",
     "text": [
      "('orders',)\n"
     ]
    }
   ],
   "source": [
    "demoCursor.execute(crt_table)\n",
    "demoCursor.execute(\"SHOW TABLES\")\n",
    "for x in demoCursor:\n",
    "    print(x) "
   ]
  },
  {
   "cell_type": "code",
   "execution_count": 209,
   "metadata": {},
   "outputs": [
    {
     "name": "stdout",
     "output_type": "stream",
     "text": [
      "('OrderID', b'int', 'YES', '', None, '')\n",
      "('CustomerID', b'varchar(200)', 'YES', '', None, '')\n",
      "('OrderDate', b'varchar(200)', 'YES', '', None, '')\n"
     ]
    }
   ],
   "source": [
    "demoCursor.execute(\"DESCRIBE Orders\")\n",
    "for x in demoCursor:\n",
    "    print(x) "
   ]
  },
  {
   "cell_type": "code",
   "execution_count": 210,
   "metadata": {},
   "outputs": [
    {
     "name": "stdout",
     "output_type": "stream",
     "text": [
      "[('10308', '2', '18-09-1996'), ('10309', '37', '19-09-1996'), ('10310', '77', '20-09-1996')]\n"
     ]
    }
   ],
   "source": [
    "import csv\n",
    "import re\n",
    "\n",
    "generate_list = []\n",
    "\n",
    "with open(\"data.csv\",mode=\"r\") as csvFile:\n",
    "    csv_reader = csv.reader(csvFile)\n",
    "    \n",
    " \n",
    "    fline = next(csv_reader)\n",
    "\n",
    "    for row in csv_reader: \n",
    "        generate_list.append(tuple(row))\n",
    "\n",
    "print(generate_list)"
   ]
  },
  {
   "cell_type": "code",
   "execution_count": 211,
   "metadata": {},
   "outputs": [],
   "source": [
    "demoCursor.execute(\"TRUNCATE TABLE Orders\")\n",
    "demoCursor.execute(\"SELECT * FROM Orders\")\n",
    "for x in demoCursor:\n",
    "    print(x) "
   ]
  },
  {
   "cell_type": "code",
   "execution_count": 213,
   "metadata": {},
   "outputs": [],
   "source": [
    "sql = \"INSERT INTO Orders (OrderID,CustomerID,OrderDate) VALUES (%s, %s, %s)\"\n",
    "\n",
    "demoCursor.executemany(sql, generate_list)"
   ]
  },
  {
   "cell_type": "code",
   "execution_count": 214,
   "metadata": {},
   "outputs": [
    {
     "name": "stdout",
     "output_type": "stream",
     "text": [
      "3 was inserted.\n"
     ]
    }
   ],
   "source": [
    "demodb.commit()\n",
    "\n",
    "print(demoCursor.rowcount, \"was inserted.\")"
   ]
  },
  {
   "cell_type": "code",
   "execution_count": 216,
   "metadata": {},
   "outputs": [
    {
     "name": "stdout",
     "output_type": "stream",
     "text": [
      "(10308, '2', '18-09-1996')\n",
      "(10309, '37', '19-09-1996')\n",
      "(10310, '77', '20-09-1996')\n"
     ]
    }
   ],
   "source": [
    "demoCursor.execute(\"SELECT * FROM Orders\")\n",
    "for x in demoCursor:\n",
    "    print(x) "
   ]
  },
  {
   "cell_type": "code",
   "execution_count": 203,
   "metadata": {},
   "outputs": [],
   "source": [
    "# demoCursor.execute(\"UPDATE Customers SET OrderDate = STR_TO_DATE(OrderDate, '%d-%m-%Y');\")"
   ]
  },
  {
   "cell_type": "code",
   "execution_count": 218,
   "metadata": {},
   "outputs": [],
   "source": [
    "demoCursor.execute(\"ALTER TABLE Orders MODIFY OrderID INT\")\n",
    " "
   ]
  },
  {
   "cell_type": "code",
   "execution_count": 219,
   "metadata": {},
   "outputs": [
    {
     "name": "stdout",
     "output_type": "stream",
     "text": [
      "(10308, '2', '18-09-1996')\n",
      "(10309, '37', '19-09-1996')\n",
      "(10310, '77', '20-09-1996')\n"
     ]
    }
   ],
   "source": [
    "demoCursor.execute(\"SELECT * FROM Orders\")\n",
    "for x in demoCursor:\n",
    "    print(x)"
   ]
  }
 ],
 "metadata": {
  "kernelspec": {
   "display_name": "Python 3 (ipykernel)",
   "language": "python",
   "name": "python3"
  },
  "language_info": {
   "codemirror_mode": {
    "name": "ipython",
    "version": 3
   },
   "file_extension": ".py",
   "mimetype": "text/x-python",
   "name": "python",
   "nbconvert_exporter": "python",
   "pygments_lexer": "ipython3",
   "version": "3.9.13"
  }
 },
 "nbformat": 4,
 "nbformat_minor": 4
}
