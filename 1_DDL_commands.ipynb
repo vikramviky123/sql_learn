{
 "cells": [
  {
   "cell_type": "markdown",
   "metadata": {},
   "source": [
    "# DDL Commands\n",
    "#### CREATE, ALTER, DROP, TRUNCATE, COMMENT, RENAME"
   ]
  },
  {
   "cell_type": "code",
   "execution_count": 1,
   "metadata": {},
   "outputs": [],
   "source": [
    "import mysql\n",
    "from mysql import connector"
   ]
  },
  {
   "cell_type": "code",
   "execution_count": 2,
   "metadata": {},
   "outputs": [
    {
     "name": "stdout",
     "output_type": "stream",
     "text": [
      "<mysql.connector.connection_cext.CMySQLConnection object at 0x00000267ECAE7850>\n"
     ]
    }
   ],
   "source": [
    "mydb = connector.connect(\n",
    "  host=\"localhost\",\n",
    "  user=\"vikram\",\n",
    "  password=\"123\"\n",
    ")\n",
    "\n",
    "print(mydb)"
   ]
  },
  {
   "cell_type": "code",
   "execution_count": 3,
   "metadata": {},
   "outputs": [],
   "source": [
    "myCursor = mydb.cursor()"
   ]
  },
  {
   "cell_type": "code",
   "execution_count": 5,
   "metadata": {},
   "outputs": [],
   "source": [
    "myCursor.execute(\"DROP DATABASE DDL_database_1_py\")"
   ]
  },
  {
   "cell_type": "code",
   "execution_count": 6,
   "metadata": {},
   "outputs": [],
   "source": [
    "myCursor.execute(\"CREATE DATABASE DDL_database_1_py\")"
   ]
  },
  {
   "cell_type": "code",
   "execution_count": 7,
   "metadata": {},
   "outputs": [
    {
     "name": "stdout",
     "output_type": "stream",
     "text": [
      "('chinook',)\n",
      "('company',)\n",
      "('db',)\n",
      "('ddl_database_1',)\n",
      "('ddl_database_1_py',)\n",
      "('dml_database_2',)\n",
      "('giraffe',)\n",
      "('hr',)\n",
      "('hr_emp',)\n",
      "('information_schema',)\n",
      "('lion',)\n",
      "('mydb',)\n",
      "('mysql',)\n",
      "('oracle',)\n",
      "('orders',)\n",
      "('performance_schema',)\n",
      "('smapledatabase',)\n",
      "('sys',)\n"
     ]
    }
   ],
   "source": [
    "myCursor.execute(\"SHOW DATABASES\")\n",
    "\n",
    "for x in myCursor:\n",
    "  print(x)"
   ]
  },
  {
   "cell_type": "markdown",
   "metadata": {},
   "source": [
    "#### Connecting To Database"
   ]
  },
  {
   "cell_type": "code",
   "execution_count": 8,
   "metadata": {},
   "outputs": [],
   "source": [
    "DDL_database_1_py = connector.connect(  \n",
    "                                host=\"localhost\",\n",
    "                                user=\"vikram\",\n",
    "                                password=\"123\",\n",
    "                                database=\"DDL_database_1_py\"\n",
    "    )\n",
    "DDL_1_py = DDL_database_1_py.cursor()"
   ]
  },
  {
   "cell_type": "markdown",
   "metadata": {},
   "source": [
    "#### CREATE"
   ]
  },
  {
   "cell_type": "code",
   "execution_count": 9,
   "metadata": {},
   "outputs": [
    {
     "name": "stdout",
     "output_type": "stream",
     "text": [
      "('customers',)\n",
      "('employees',)\n"
     ]
    }
   ],
   "source": [
    "DDL_1_py.execute(\"CREATE TABLE CUSTOMERS(customer_id INT, first_name VARCHAR(20), last_name VARCHAR(20),country VARCHAR(20))\")\n",
    "DDL_1_py.execute(\"CREATE TABLE employees(emp_id INT, first_name VARCHAR(20), last_name VARCHAR(20),salary INT)\")\n",
    "\n",
    "DDL_1_py.execute(\"SHOW TABLES\")\n",
    "for x in DDL_1_py:\n",
    "    print(x) "
   ]
  },
  {
   "cell_type": "markdown",
   "metadata": {},
   "source": [
    "#### DROP"
   ]
  },
  {
   "cell_type": "code",
   "execution_count": 10,
   "metadata": {},
   "outputs": [
    {
     "name": "stdout",
     "output_type": "stream",
     "text": [
      "('employees',)\n"
     ]
    }
   ],
   "source": [
    "DDL_1_py.execute(\"DROP TABLE customers\")\n",
    "DDL_1_py.execute(\"SHOW TABLES\")\n",
    "for x in DDL_1_py:\n",
    "    print(x) "
   ]
  },
  {
   "cell_type": "code",
   "execution_count": 11,
   "metadata": {},
   "outputs": [
    {
     "name": "stdout",
     "output_type": "stream",
     "text": [
      "('emp_id', b'int', 'YES', '', None, '')\n",
      "('first_name', b'varchar(20)', 'YES', '', None, '')\n",
      "('last_name', b'varchar(20)', 'YES', '', None, '')\n",
      "('salary', b'int', 'YES', '', None, '')\n"
     ]
    }
   ],
   "source": [
    "DDL_1_py.execute(\"DESCRIBE EMPLOYEES\")\n",
    "for x in DDL_1_py:\n",
    "    print(x) "
   ]
  },
  {
   "cell_type": "markdown",
   "metadata": {},
   "source": [
    "#### ALTER --> CHANGE"
   ]
  },
  {
   "cell_type": "code",
   "execution_count": 12,
   "metadata": {},
   "outputs": [
    {
     "name": "stdout",
     "output_type": "stream",
     "text": [
      "('emp_id', b'int', 'YES', '', None, '')\n",
      "('fname', b'varchar(30)', 'YES', '', None, '')\n",
      "('last_name', b'varchar(20)', 'YES', '', None, '')\n",
      "('salary', b'int', 'YES', '', None, '')\n"
     ]
    }
   ],
   "source": [
    "DDL_1_py.execute(\"ALTER TABLE employees CHANGE first_name fname VARCHAR(30)\")\n",
    "DDL_1_py.execute(\"DESCRIBE EMPLOYEES\")\n",
    "for x in DDL_1_py:\n",
    "    print(x) "
   ]
  },
  {
   "cell_type": "markdown",
   "metadata": {},
   "source": [
    "#### ALTER --> MODIFY"
   ]
  },
  {
   "cell_type": "code",
   "execution_count": 13,
   "metadata": {},
   "outputs": [
    {
     "name": "stdout",
     "output_type": "stream",
     "text": [
      "('emp_id', b'int', 'YES', '', None, '')\n",
      "('fname', b'varchar(20)', 'YES', '', None, '')\n",
      "('last_name', b'varchar(20)', 'YES', '', None, '')\n",
      "('salary', b'int', 'YES', '', None, '')\n"
     ]
    }
   ],
   "source": [
    "DDL_1_py.execute(\"ALTER TABLE employees MODIFY fname VARCHAR(20)\")\n",
    "DDL_1_py.execute(\"DESCRIBE EMPLOYEES\")\n",
    "for x in DDL_1_py:\n",
    "    print(x) "
   ]
  },
  {
   "cell_type": "markdown",
   "metadata": {},
   "source": [
    "#### ALTER --> ADD COLUMN"
   ]
  },
  {
   "cell_type": "code",
   "execution_count": 14,
   "metadata": {},
   "outputs": [
    {
     "name": "stdout",
     "output_type": "stream",
     "text": [
      "('emp_id', b'int', 'YES', '', None, '')\n",
      "('fname', b'varchar(20)', 'YES', '', None, '')\n",
      "('last_name', b'varchar(20)', 'YES', '', None, '')\n",
      "('salary', b'int', 'YES', '', None, '')\n",
      "('country', b'varchar(20)', 'YES', '', None, '')\n"
     ]
    }
   ],
   "source": [
    "DDL_1_py.execute(\"ALTER TABLE employees ADD COLUMN country VARCHAR(20)\")\n",
    "DDL_1_py.execute(\"DESCRIBE EMPLOYEES\")\n",
    "for x in DDL_1_py:\n",
    "    print(x) "
   ]
  },
  {
   "cell_type": "markdown",
   "metadata": {},
   "source": [
    "#### ALTER --> ADD COLUMN AFTER"
   ]
  },
  {
   "cell_type": "code",
   "execution_count": 15,
   "metadata": {},
   "outputs": [
    {
     "name": "stdout",
     "output_type": "stream",
     "text": [
      "('emp_id', b'int', 'YES', '', None, '')\n",
      "('fname', b'varchar(20)', 'YES', '', None, '')\n",
      "('middle_name', b'varchar(20)', 'YES', '', None, '')\n",
      "('last_name', b'varchar(20)', 'YES', '', None, '')\n",
      "('salary', b'int', 'YES', '', None, '')\n",
      "('country', b'varchar(20)', 'YES', '', None, '')\n"
     ]
    }
   ],
   "source": [
    "DDL_1_py.execute(\"ALTER TABLE employees ADD middle_name VARCHAR(20) after fname\")\n",
    "DDL_1_py.execute(\"DESCRIBE EMPLOYEES\")\n",
    "for x in DDL_1_py:\n",
    "    print(x) "
   ]
  },
  {
   "cell_type": "markdown",
   "metadata": {},
   "source": [
    "#### ALTER --> DROP COLUMN"
   ]
  },
  {
   "cell_type": "code",
   "execution_count": 16,
   "metadata": {},
   "outputs": [
    {
     "name": "stdout",
     "output_type": "stream",
     "text": [
      "('emp_id', b'int', 'YES', '', None, '')\n",
      "('fname', b'varchar(20)', 'YES', '', None, '')\n",
      "('last_name', b'varchar(20)', 'YES', '', None, '')\n",
      "('salary', b'int', 'YES', '', None, '')\n",
      "('country', b'varchar(20)', 'YES', '', None, '')\n"
     ]
    }
   ],
   "source": [
    "DDL_1_py.execute(\"ALTER TABLE employees DROP column middle_name\")\n",
    "DDL_1_py.execute(\"DESCRIBE EMPLOYEES\")\n",
    "for x in DDL_1_py:\n",
    "    print(x) "
   ]
  },
  {
   "cell_type": "markdown",
   "metadata": {},
   "source": [
    "#### RENAME"
   ]
  },
  {
   "cell_type": "code",
   "execution_count": 17,
   "metadata": {},
   "outputs": [
    {
     "name": "stdout",
     "output_type": "stream",
     "text": [
      "('emp_id', b'int', 'YES', '', None, '')\n",
      "('fname', b'varchar(20)', 'YES', '', None, '')\n",
      "('last_name', b'varchar(20)', 'YES', '', None, '')\n",
      "('salary', b'int', 'YES', '', None, '')\n",
      "('country', b'varchar(20)', 'YES', '', None, '')\n"
     ]
    }
   ],
   "source": [
    "DDL_1_py.execute(\"RENAME TABLE employees to employees_info\")\n",
    "DDL_1_py.execute(\"DESCRIBE employees_info\")\n",
    "for x in DDL_1_py:\n",
    "    print(x) "
   ]
  },
  {
   "cell_type": "code",
   "execution_count": 18,
   "metadata": {},
   "outputs": [],
   "source": [
    "DDL_1_py.execute(\"DROP TABLE employees_info\")\n",
    "DDL_1_py.execute(\"SHOW TABLES\")\n",
    "for x in DDL_1_py:\n",
    "    print(x) "
   ]
  },
  {
   "cell_type": "code",
   "execution_count": null,
   "metadata": {},
   "outputs": [],
   "source": []
  }
 ],
 "metadata": {
  "kernelspec": {
   "display_name": "Python 3",
   "language": "python",
   "name": "python3"
  },
  "language_info": {
   "codemirror_mode": {
    "name": "ipython",
    "version": 3
   },
   "file_extension": ".py",
   "mimetype": "text/x-python",
   "name": "python",
   "nbconvert_exporter": "python",
   "pygments_lexer": "ipython3",
   "version": "3.9.13"
  },
  "orig_nbformat": 4
 },
 "nbformat": 4,
 "nbformat_minor": 2
}
